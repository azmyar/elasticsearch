{
 "cells": [
  {
   "cell_type": "markdown",
   "metadata": {},
   "source": [
    "# Elasticsearch Vector Search Pipeline"
   ]
  },
  {
   "cell_type": "code",
   "execution_count": null,
   "metadata": {},
   "outputs": [],
   "source": [
    "# Install dependencies if needed\n",
    "!pip install -q sentence-transformers elasticsearch"
   ]
  },
  {
   "cell_type": "code",
   "execution_count": null,
   "metadata": {},
   "outputs": [],
   "source": [
    "# Import libraries\n",
    "from sentence_transformers import SentenceTransformer\n",
    "from elasticsearch import Elasticsearch\n",
    "from elasticsearch.helpers import bulk\n",
    "import numpy as np\n",
    "\n",
    "import logging\n",
    "import sys\n",
    "\n",
    "# Konfigurasi logging untuk Elasticsearch\n",
    "logger = logging.getLogger(\"elasticsearch\")\n",
    "logger.setLevel(logging.DEBUG)  # atau logging.INFO\n",
    "handler = logging.StreamHandler(sys.stdout)\n",
    "formatter = logging.Formatter(\"%(asctime)s - %(levelname)s - %(message)s\")\n",
    "handler.setFormatter(formatter)\n",
    "logger.addHandler(handler)"
   ]
  },
  {
   "cell_type": "code",
   "execution_count": null,
   "metadata": {},
   "outputs": [],
   "source": [
    "# Connect to Elasticsearch (make sure it's running on port 9200)\n",
    "es = Elasticsearch(\"http://localhost:9200\")\n",
    "assert es.ping(), \"Elasticsearch is not running. Please start it first.\""
   ]
  },
  {
   "cell_type": "code",
   "execution_count": null,
   "metadata": {},
   "outputs": [],
   "source": [
    "model = SentenceTransformer('all-MiniLM-L6-v2')\n",
    "\n",
    "documents = [\n",
    "    \"Jaket tahan air untuk musim hujan\",\n",
    "    \"Sepatu lari ringan dan nyaman\",\n",
    "    \"Kopi arabika asli dari Sumatera\",\n",
    "    \"Kamera mirrorless untuk pemula\",\n",
    "    \"Laptop ringan untuk kerja remote\",\n",
    "    \"Smartphone dengan kamera 108MP\",\n",
    "    \"Tas punggung anti air untuk traveling\",\n",
    "    \"Headset Bluetooth dengan noise cancelling\",\n",
    "    \"Kursi gaming ergonomis\",\n",
    "    \"Meja kerja minimalis dari kayu jati\",\n",
    "    \"Buku belajar Python untuk pemula\",\n",
    "    \"Skincare wajah glowing alami\",\n",
    "    \"Jam tangan tahan air sporty\",\n",
    "    \"Mouse wireless dengan sensor presisi tinggi\",\n",
    "    \"Keyboard mekanik RGB\",\n",
    "    \"Powerbank 20000mAh fast charging\",\n",
    "    \"Router WiFi 6 kecepatan tinggi\",\n",
    "    \"Alat masak multifungsi 7-in-1\",\n",
    "    \"Kipas angin portable dengan USB\",\n",
    "    \"Panci stainless steel anti lengket\",\n",
    "    \"Blender smoothie portable\",\n",
    "    \"Dispenser galon bawah hemat listrik\",\n",
    "    \"Cermin LED untuk makeup\",\n",
    "    \"Gitar akustik untuk pemula\",\n",
    "    \"Pakaian olahraga quick dry\",\n",
    "    \"Helm motor SNI full face\",\n",
    "    \"Tripod HP untuk konten kreator\",\n",
    "    \"Kacamata anti radiasi untuk layar komputer\",\n",
    "    \"Lampu tidur sensor gerak\",\n",
    "    \"Rak dinding minimalis gantung\",\n",
    "    \"Parfum pria aroma maskulin\",\n",
    "    \"Hijab instan bahan adem\",\n",
    "    \"Dompet kulit asli premium\",\n",
    "    \"Charger mobil dual USB\",\n",
    "    \"Speaker Bluetooth waterproof\",\n",
    "    \"Set alat tulis lucu untuk sekolah\",\n",
    "    \"Bantal tidur memory foam\",\n",
    "    \"Matras yoga anti slip\",\n",
    "    \"Botol minum stainless 1 liter\",\n",
    "    \"Notebook A5 hardcover\",\n",
    "    \"Jas hujan transparan unisex\",\n",
    "    \"Celana jeans stretch pria\",\n",
    "    \"Kaos polos oversize wanita\",\n",
    "    \"Mainan edukatif balita\",\n",
    "    \"Kamera CCTV wireless\",\n",
    "    \"Masker wajah sheet mask\",\n",
    "    \"Lemari plastik 5 susun\",\n",
    "    \"Pisau dapur tajam set isi 5\",\n",
    "    \"Sarung tangan motor anti air\",\n",
    "    \"Selimut bulu super lembut\"\n",
    "]\n",
    "\n",
    "# Encode jadi vector (normalized)\n",
    "embeddings = model.encode(documents, normalize_embeddings=True).tolist()"
   ]
  },
  {
   "cell_type": "code",
   "execution_count": null,
   "id": "965a83e2",
   "metadata": {},
   "outputs": [],
   "source": [
    "# Create index with vector mapping (if not exists)\n",
    "index_name = \"produk\"\n",
    "if not es.indices.exists(index=index_name):\n",
    "    es.indices.create(index=index_name, body={\n",
    "        \"mappings\": {\n",
    "            \"properties\": {\n",
    "                \"nama\": {\"type\": \"text\"},\n",
    "                \"vector\": {\"type\": \"dense_vector\", \"dims\": 384, \"index\": True, \"similarity\": \"cosine\"}\n",
    "            }\n",
    "        }\n",
    "    })"
   ]
  },
  {
   "cell_type": "code",
   "execution_count": null,
   "metadata": {},
   "outputs": [],
   "source": [
    "# Index documents with vectors\n",
    "bulk(es, [\n",
    "    {\"_index\": index_name, \"_source\": {\"nama\": documents[i], \"vector\": embeddings[i]}} for i in range(len(documents))\n",
    "])"
   ]
  },
  {
   "cell_type": "code",
   "execution_count": null,
   "metadata": {},
   "outputs": [],
   "source": [
    "# Search with a new query\n",
    "query = \"hujan\"\n",
    "query_vector = model.encode([query], normalize_embeddings=True)[0]\n",
    "\n",
    "res = es.search(index=index_name, body={\n",
    "    \"knn\": {\n",
    "        \"field\": \"vector\",\n",
    "        \"query_vector\": query_vector,\n",
    "        \"k\": 1,\n",
    "        \"num_candidates\": 5\n",
    "    },\n",
    "    \"_source\": [\"nama\"]\n",
    "})\n",
    "\n",
    "print(\"Hasil pencarian:\")\n",
    "for hit in res['hits']['hits']:\n",
    "    print(f\"- {hit['_source']['nama']} (score: {hit['_score']:.4f})\")"
   ]
  }
 ],
 "metadata": {
  "kernelspec": {
   "display_name": "env (3.13.3)",
   "language": "python",
   "name": "python3"
  },
  "language_info": {
   "codemirror_mode": {
    "name": "ipython",
    "version": 3
   },
   "file_extension": ".py",
   "mimetype": "text/x-python",
   "name": "python",
   "nbconvert_exporter": "python",
   "pygments_lexer": "ipython3",
   "version": "3.13.3"
  }
 },
 "nbformat": 4,
 "nbformat_minor": 5
}
